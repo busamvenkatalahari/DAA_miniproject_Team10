{
 "cells": [
  {
   "cell_type": "code",
   "execution_count": 1,
   "id": "9c04b83c",
   "metadata": {},
   "outputs": [
    {
     "name": "stdout",
     "output_type": "stream",
     "text": [
      "Enter total no. of test cases: 5\n",
      "Enter max time in which the code needs to be tested: 10\n",
      "Enter cost and time of each test case:\n",
      "6 4\n",
      "2 1\n",
      "5 4\n",
      "10 20\n",
      "5 40\n",
      "The illustration for our problem is:\n",
      "0 0 0 0 0 0 0 0 0 0 0 \n",
      "0 0 0 0 6 6 6 6 6 6 6 \n",
      "0 2 2 2 6 8 8 8 8 8 8 \n",
      "0 2 2 2 6 8 8 8 11 13 13 \n",
      "0 2 2 2 6 8 8 8 11 13 13 \n",
      "0 2 2 2 6 8 8 8 11 13 13 \n",
      "\n",
      "The selected test cases are:\n",
      "3 2 1 "
     ]
    }
   ],
   "source": [
    "def main():\n",
    "    nr_tests = int(input(\"Enter total no. of test cases: \"))\n",
    "    t_max = int(input(\"Enter max time in which the code needs to be tested: \"))\n",
    "\n",
    "    time = [0] * (nr_tests + 1)\n",
    "    cost = [0] * (nr_tests + 1)\n",
    "    o = [[0] * (t_max + 1) \n",
    "         \n",
    "    for _ in range(nr_tests + 1)]\n",
    "\n",
    "    print(\"Enter cost and time of each test case:\")\n",
    "    for i in range(1, nr_tests + 1):\n",
    "        cost[i], time[i] = map(int, input().split())\n",
    "\n",
    "    for i in range(t_max + 1):\n",
    "        o[0][i] = 0\n",
    "\n",
    "    for i in range(1, nr_tests + 1):\n",
    "        for t in range(t_max + 1):\n",
    "            o[i][t] = o[i - 1][t]\n",
    "\n",
    "            if time[i] <= t:\n",
    "                best = o[i - 1][t - time[i]] + cost[i]\n",
    "\n",
    "                if o[i][t] < best:\n",
    "                    o[i][t] = best\n",
    "\n",
    "    print(\"The illustration for our problem is:\")\n",
    "    for i in range(nr_tests + 1):\n",
    "        for t in range(t_max + 1):\n",
    "            print(o[i][t], end=\" \")\n",
    "        print()\n",
    "\n",
    "    print(\"\\nThe selected test cases are:\")\n",
    "    stop = False\n",
    "    t = t_max\n",
    "    for i in range(nr_tests, 0, -1):\n",
    "        stop = False\n",
    "        while not stop and t >= time[i]:\n",
    "            if t - 1 >= 0 and o[i][t] == o[i][t - 1]:\n",
    "                t -= 1\n",
    "            else:\n",
    "                if t - time[i] >= 0 and o[i][t] == o[i - 1][t - time[i]] + cost[i]:\n",
    "                    print(i, end=\" \")\n",
    "                    t = t - time[i]\n",
    "                stop = True\n",
    "\n",
    "\n",
    "if __name__ == \"__main__\":\n",
    "    main()\n"
   ]
  },
  {
   "cell_type": "code",
   "execution_count": null,
   "id": "a233ad19",
   "metadata": {},
   "outputs": [],
   "source": []
  }
 ],
 "metadata": {
  "kernelspec": {
   "display_name": "Python 3 (ipykernel)",
   "language": "python",
   "name": "python3"
  },
  "language_info": {
   "codemirror_mode": {
    "name": "ipython",
    "version": 3
   },
   "file_extension": ".py",
   "mimetype": "text/x-python",
   "name": "python",
   "nbconvert_exporter": "python",
   "pygments_lexer": "ipython3",
   "version": "3.11.5"
  }
 },
 "nbformat": 4,
 "nbformat_minor": 5
}
